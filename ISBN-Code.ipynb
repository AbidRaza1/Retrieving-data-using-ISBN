{
 "cells": [
  {
   "cell_type": "markdown",
   "id": "recovered-finance",
   "metadata": {},
   "source": [
    "### Problem 1  [Python]"
   ]
  },
  {
   "cell_type": "code",
   "execution_count": null,
   "id": "difficult-power",
   "metadata": {},
   "outputs": [],
   "source": [
    "pip install isbnlib"
   ]
  },
  {
   "cell_type": "code",
   "execution_count": 9,
   "id": "chinese-victory",
   "metadata": {},
   "outputs": [],
   "source": [
    "# Importing packages from libraries\n",
    "\n",
    "from isbnlib import meta\n",
    "\n",
    "from isbnlib.registry import bibformatters\n",
    "\n",
    "import pandas as pd"
   ]
  },
  {
   "cell_type": "code",
   "execution_count": 13,
   "id": "foster-convenience",
   "metadata": {},
   "outputs": [
    {
     "name": "stdout",
     "output_type": "stream",
     "text": [
      "Enter ISBN: 0-19-852663-6\n"
     ]
    },
    {
     "data": {
      "text/plain": [
       "['     title = {Taking Chances - Winning with Probability},',\n",
       " '    author = {John Haigh},',\n",
       " '      isbn = {9780198526636},',\n",
       " '      year = {2003},']"
      ]
     },
     "execution_count": 13,
     "metadata": {},
     "output_type": "execute_result"
    }
   ],
   "source": [
    "# Defining function\n",
    "\n",
    "def get_book_info(isbn):\n",
    "                     \n",
    "                    bibtex = bibformatters[\"bibtex\"]\n",
    "\n",
    "                    x = bibtex(meta(isbn))\n",
    "                    \n",
    "                    return(x)\n",
    "\n",
    "# Asking for user input\n",
    "\n",
    "isbn = input(\"Enter ISBN: \")\n",
    "\n",
    "# Checking for valid ISBNs\n",
    "\n",
    "while len(isbn) != 13:\n",
    "    \n",
    "    isbn = input(\"ISBN entered does not contain 13 digits. Please, enter the ISBN again: \")\n",
    "\n",
    "# Calling function and applied split method to break the parts of string\n",
    "\n",
    "y = get_book_info(isbn).split(\"\\n\")\n",
    "\n",
    "# Getting the information \n",
    "\n",
    "y[1:5]"
   ]
  },
  {
   "cell_type": "markdown",
   "id": "unexpected-formula",
   "metadata": {},
   "source": [
    "######  * The program is pullling the data from isbn library which is not updated, so it might result in error for recent published isbns"
   ]
  }
 ],
 "metadata": {
  "kernelspec": {
   "display_name": "Python 3",
   "language": "python",
   "name": "python3"
  },
  "language_info": {
   "codemirror_mode": {
    "name": "ipython",
    "version": 3
   },
   "file_extension": ".py",
   "mimetype": "text/x-python",
   "name": "python",
   "nbconvert_exporter": "python",
   "pygments_lexer": "ipython3",
   "version": "3.6.13"
  }
 },
 "nbformat": 4,
 "nbformat_minor": 5
}
